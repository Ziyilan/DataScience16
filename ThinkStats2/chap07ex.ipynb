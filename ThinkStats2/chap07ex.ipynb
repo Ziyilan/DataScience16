{
 "cells": [
  {
   "cell_type": "markdown",
   "metadata": {},
   "source": [
    "Exercise from Think Stats, 2nd Edition (thinkstats2.com)<br>\n",
    "Allen Downey"
   ]
  },
  {
   "cell_type": "code",
   "execution_count": null,
   "metadata": {
    "collapsed": false
   },
   "outputs": [],
   "source": [
    "%matplotlib inline"
   ]
  },
  {
   "cell_type": "markdown",
   "metadata": {},
   "source": [
    "Using data from the NSFG, make a scatter plot of birth weight versus mother’s age. Plot percentiles of birth weight versus mother’s age. Compute Pearson’s and Spearman’s correlations. How would you characterize the relationship between these variables? "
   ]
  },
  {
   "cell_type": "code",
   "execution_count": 19,
   "metadata": {
    "collapsed": false
   },
   "outputs": [
    {
     "ename": "SyntaxError",
     "evalue": "invalid syntax (<ipython-input-19-5c026410b247>, line 28)",
     "output_type": "error",
     "traceback": [
      "\u001b[1;36m  File \u001b[1;32m\"<ipython-input-19-5c026410b247>\"\u001b[1;36m, line \u001b[1;32m28\u001b[0m\n\u001b[1;33m    print \"Pearson's correlation: \" thinkstats2.Corr(df.totalwgt_lb, df.agepreg)\u001b[0m\n\u001b[1;37m                                              ^\u001b[0m\n\u001b[1;31mSyntaxError\u001b[0m\u001b[1;31m:\u001b[0m invalid syntax\n"
     ]
    }
   ],
   "source": [
    "import nsfg\n",
    "import thinkplot\n",
    "import numpy as np\n",
    "import thinkstats2\n",
    "\n",
    "\n",
    "'''Scatter Plot of birth weight versus mother’s age'''\n",
    "df = nsfg.ReadFemPreg()\n",
    "df = df.dropna(subset=['totalwgt_lb','agepreg'])\n",
    "thinkplot.Scatter(df.agepreg,df.totalwgt_lb)\n",
    "thinkplot.Show(xlabel='Weight ',ylabel='Mother Age', alpha=0.2)\n",
    "\n",
    "\n",
    "'''Percentiles of birth weight versus mother’s age'''\n",
    "bins = np.arange(5, 50, 5)\n",
    "indices = np.digitize(df.totalwgt_lb,bins)\n",
    "groups = df.groupby(indices)\n",
    "ages = [group.agepreg.mean() for i, group in groups]\n",
    "cdfs = [thinkstats2.Cdf(group.totalwgt_lb) for i, group in groups]\n",
    "for percent in [75, 50, 25]:\n",
    "    weights = [cdf.Percentile(percent) for cdf in cdfs]\n",
    "    thinkplot.Plot(ages, weights)\n",
    "\n",
    "thinkplot.Show(xlabel=\"Mother's Age( years)\",ylabel=\"Birth Weight (lbs)\")\n",
    "\n",
    "\n",
    "'''Parsons and Spearman correlations'''\n",
    "print \"Pearson's Correlation: \", thinkstats2.Corr(df.agepreg, df.totalwgt_lb)\n",
    "print \"Spearman's Rank: \", thinkstats2.SpearmanCorr(df.agepreg, df.totalwgt_lb)\n",
    "    \n"
   ]
  }
 ],
 "metadata": {
  "kernelspec": {
   "display_name": "Python 2",
   "language": "python",
   "name": "python2"
  },
  "language_info": {
   "codemirror_mode": {
    "name": "ipython",
    "version": 2
   },
   "file_extension": ".py",
   "mimetype": "text/x-python",
   "name": "python",
   "nbconvert_exporter": "python",
   "pygments_lexer": "ipython2",
   "version": "2.7.11"
  }
 },
 "nbformat": 4,
 "nbformat_minor": 0
}
