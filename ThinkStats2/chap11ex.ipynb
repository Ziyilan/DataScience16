{
 "cells": [
  {
   "cell_type": "markdown",
   "metadata": {},
   "source": [
    "Exercise from Think Stats, 2nd Edition (thinkstats2.com)<br>\n",
    "Allen Downey"
   ]
  },
  {
   "cell_type": "code",
   "execution_count": 4,
   "metadata": {
    "collapsed": false
   },
   "outputs": [
    {
     "name": "stderr",
     "output_type": "stream",
     "text": [
      "/home/zlan/anaconda2/lib/python2.7/site-packages/matplotlib/font_manager.py:273: UserWarning: Matplotlib is building the font cache using fc-list. This may take a moment.\n",
      "  warnings.warn('Matplotlib is building the font cache using fc-list. This may take a moment.')\n"
     ]
    }
   ],
   "source": [
    "%matplotlib inline\n",
    "import chap01soln\n",
    "import statsmodels.formula.api as smf\n",
    "import nsfg"
   ]
  },
  {
   "cell_type": "markdown",
   "metadata": {},
   "source": [
    "Suppose one of your co-workers is expecting a baby and you are participating in an office pool to predict the date of birth. Assuming that bets are placed during the 30th week of pregnancy, what variables could you use to make the best prediction? You should limit yourself to variables that are known before the birth, and likely to be available to the people in the pool. "
   ]
  },
  {
   "cell_type": "code",
   "execution_count": 5,
   "metadata": {
    "collapsed": false
   },
   "outputs": [
    {
     "name": "stdout",
     "output_type": "stream",
     "text": [
      "prglngth 1.0\n",
      "wksgest 0.810466988405\n",
      "agecon 0.781350418865\n",
      "totalwgt_lb 0.125503308033\n",
      "birthwgt_lb 0.120679453558\n",
      "lbw1 0.103838874743\n",
      "mosgest 0.0982884576401\n",
      "prglngth_i 0.0215849926795\n",
      "pregend1 0.00843280219459\n",
      "outcome 0.00787817147656\n",
      "prgoutcome 0.00784661257936\n",
      "canhaver 0.00675998334427\n",
      "datcon01_i 0.00590185285858\n",
      "con1mar1_i 0.00559512377641\n",
      "nbrnaliv 0.00458014116394\n",
      "mar1con1_i 0.00328669224473\n",
      "anynurse 0.00291848398136\n",
      "bfeedwks 0.00256701215878\n",
      "evuseint 0.0021679382829\n",
      "rmarout11_i 0.00216747068093\n",
      "marout11_i 0.00216747068093\n",
      "marcon11_i 0.00216747068093\n",
      "datend02_i 0.00207103036159\n",
      "datcon02_i 0.00207103036159\n",
      "agecon02_i 0.00202887790055\n",
      "ageprg02_i 0.00199128042069\n",
      "paydu 0.00198269210289\n",
      "fmarcon5_i 0.00194217103909\n",
      "cmlastlb_r 0.00190168382206\n",
      "cmlastlb 0.00190168382206\n"
     ]
    }
   ],
   "source": [
    "data = nsfg.ReadFemPreg()\n",
    "live = data[data.prglngth>30]\n",
    "resp = chap01soln.ReadFemResp()\n",
    "resp.index = resp.caseid\n",
    "join = live.join(resp, on = \"caseid\", rsuffix = \"_r\")\n",
    "t = []\n",
    "for name in join.columns:\n",
    "    try:\n",
    "        if join[name].var() < 1e-7:\n",
    "            continue\n",
    "        formula = 'prglngth ~ agepreg + ' + str(name)\n",
    "        model = smf.ols(formula, data=join)\n",
    "        if model.nobs < len(join)/2:\n",
    "            continue\n",
    "        results = model.fit()\n",
    "    except (ValueError, TypeError):\n",
    "        continue\n",
    "    t.append((results.rsquared, name))\n",
    "    \n",
    "t.sort(reverse=True)\n",
    "for mse, name in t[:30]:\n",
    "    print name, mse"
   ]
  },
  {
   "cell_type": "markdown",
   "metadata": {},
   "source": [
    "Using the code from the text book, we can see the top factors contributing to pregnancy length are listed as above."
   ]
  },
  {
   "cell_type": "markdown",
   "metadata": {},
   "source": [
    "## Clarifying Questions\n",
    "\n",
    "Use this space to ask questions regarding the content covered in the reading. These questions should be restricted to helping you better understand the material. For questions that push beyond what is in the reading, use the next answer field. If you don't have a fully formed question, but are generally having a difficult time with a topic, you can indicate that here as well."
   ]
  },
  {
   "cell_type": "markdown",
   "metadata": {},
   "source": []
  },
  {
   "cell_type": "markdown",
   "metadata": {},
   "source": [
    "## Enrichment Questions\n",
    "\n",
    "Use this space to ask any questions that go beyond (but are related to) the material presented in this reading. Perhaps there is a particular topic you'd like to see covered in more depth. Perhaps you'd like to know how to use a library in a way that wasn't show in the reading. One way to think about this is what additional topics would you want covered in the next class (or addressed in a followup e-mail to the class). I'm a little fuzzy on what stuff will likely go here, so we'll see how things evolve."
   ]
  },
  {
   "cell_type": "markdown",
   "metadata": {},
   "source": []
  },
  {
   "cell_type": "markdown",
   "metadata": {},
   "source": [
    "## Additional Resources / Explorations\n",
    "\n",
    "If you found any useful resources, or tried some useful exercises that you'd like to report please do so here. Let us know what you did, what you learned, and how others can replicate it."
   ]
  },
  {
   "cell_type": "markdown",
   "metadata": {},
   "source": []
  }
 ],
 "metadata": {
  "kernelspec": {
   "display_name": "Python 2",
   "language": "python",
   "name": "python2"
  },
  "language_info": {
   "codemirror_mode": {
    "name": "ipython",
    "version": 2
   },
   "file_extension": ".py",
   "mimetype": "text/x-python",
   "name": "python",
   "nbconvert_exporter": "python",
   "pygments_lexer": "ipython2",
   "version": "2.7.11"
  }
 },
 "nbformat": 4,
 "nbformat_minor": 0
}
